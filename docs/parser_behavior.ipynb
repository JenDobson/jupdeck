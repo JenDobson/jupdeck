{
 "cells": [
  {
   "cell_type": "markdown",
   "id": "b7e35c08",
   "metadata": {},
   "source": [
    "# core.parser API Walkthrough\n",
    "\n",
    "This notebook demonstrates how markdown and code cells are parsed into `ParsedCell` objects."
   ]
  },
  {
   "cell_type": "code",
   "execution_count": 1,
   "id": "5e124cb6",
   "metadata": {},
   "outputs": [],
   "source": [
    "from nbformat.v4 import new_markdown_cell\n",
    "from notebook_summarizer.core.parser import parse_markdown_cell, parse_code_cell\n",
    "import pprint"
   ]
  },
  {
   "cell_type": "markdown",
   "id": "f7bdfd3b",
   "metadata": {},
   "source": [
    "### 1. Simple Markdown\n",
    "A markdown cell with a heading and a paragraph."
   ]
  },
  {
   "cell_type": "code",
   "execution_count": 2,
   "id": "992f7cef",
   "metadata": {},
   "outputs": [
    {
     "name": "stdout",
     "output_type": "stream",
     "text": [
      "ParsedCell(type='markdown',\n",
      "           title='Introduction',\n",
      "           bullets=[],\n",
      "           paragraphs=['This notebook demonstrates parsing.'],\n",
      "           code=None,\n",
      "           images=[],\n",
      "           table=None,\n",
      "           raw_outputs=None,\n",
      "           metadata={})\n"
     ]
    }
   ],
   "source": [
    "md_cell = new_markdown_cell('# Introduction\\n\\nThis notebook demonstrates parsing.')\n",
    "parsed = parse_markdown_cell(md_cell)\n",
    "pprint.pprint(parsed)"
   ]
  },
  {
   "cell_type": "markdown",
   "id": "9707753b",
   "metadata": {},
   "source": [
    "### 2. Markdown with Bullets\n",
    "A markdown cell with a heading and a bullet list."
   ]
  },
  {
   "cell_type": "code",
   "execution_count": 3,
   "id": "12513a9f",
   "metadata": {},
   "outputs": [
    {
     "name": "stdout",
     "output_type": "stream",
     "text": [
      "ParsedCell(type='markdown',\n",
      "           title='Key Findings',\n",
      "           bullets=['First insight', 'Second insight'],\n",
      "           paragraphs=[],\n",
      "           code=None,\n",
      "           images=[],\n",
      "           table=None,\n",
      "           raw_outputs=None,\n",
      "           metadata={})\n"
     ]
    }
   ],
   "source": [
    "md_bullets = new_markdown_cell('# Key Findings\\n\\n- First insight\\n- Second insight')\n",
    "parsed_bullets = parse_markdown_cell(md_bullets)\n",
    "pprint.pprint(parsed_bullets)"
   ]
  },
  {
   "cell_type": "markdown",
   "id": "4675043a",
   "metadata": {},
   "source": [
    "### 3. Markdown with Link\n",
    "A markdown paragraph that includes an inline link."
   ]
  },
  {
   "cell_type": "code",
   "execution_count": 4,
   "id": "f73d7066",
   "metadata": {},
   "outputs": [
    {
     "name": "stdout",
     "output_type": "stream",
     "text": [
      "ParsedCell(type='markdown',\n",
      "           title='Data Source',\n",
      "           bullets=[],\n",
      "           paragraphs=['See BLS (https://bls.gov) for details.'],\n",
      "           code=None,\n",
      "           images=[],\n",
      "           table=None,\n",
      "           raw_outputs=None,\n",
      "           metadata={})\n"
     ]
    }
   ],
   "source": [
    "md_link = new_markdown_cell('# Data Source\\n\\nSee [BLS](https://bls.gov) for details.')\n",
    "parsed_link = parse_markdown_cell(md_link)\n",
    "pprint.pprint(parsed_link)"
   ]
  },
  {
   "cell_type": "markdown",
   "id": "f73f21f2",
   "metadata": {},
   "source": [
    "### 4.  Bullets containing link"
   ]
  },
  {
   "cell_type": "code",
   "execution_count": 5,
   "id": "fccff8b7",
   "metadata": {},
   "outputs": [
    {
     "name": "stdout",
     "output_type": "stream",
     "text": [
      "ParsedCell(type='markdown',\n",
      "           title='Data Source',\n",
      "           bullets=['There is data', 'See BLS (https://bls.gov) for details.'],\n",
      "           paragraphs=[],\n",
      "           code=None,\n",
      "           images=[],\n",
      "           table=None,\n",
      "           raw_outputs=None,\n",
      "           metadata={})\n"
     ]
    }
   ],
   "source": [
    "md_bullet_link = new_markdown_cell('# Data Source\\n\\n- There is data\\n- See [BLS](https://bls.gov) for details.')\n",
    "parsed_bullet_link = parse_markdown_cell(md_bullet_link)\n",
    "pprint.pprint(parsed_bullet_link)"
   ]
  },
  {
   "cell_type": "markdown",
   "id": "d7a50bcd",
   "metadata": {},
   "source": [
    "### 5. Code Cell with Plot Output\n",
    "(Manually simulate plot output with stub png.)"
   ]
  },
  {
   "cell_type": "code",
   "execution_count": 6,
   "id": "777efe09",
   "metadata": {},
   "outputs": [
    {
     "name": "stdout",
     "output_type": "stream",
     "text": [
      "ParsedCell(type='code',\n",
      "           title=None,\n",
      "           bullets=[],\n",
      "           paragraphs=[],\n",
      "           code='import matplotlib.pyplot as plt\\n'\n",
      "                'plt.plot([1, 2, 3], [4, 5, 6])\\n'\n",
      "                'plt.show()',\n",
      "           images=[ImageData(mime_type='image/png',\n",
      "                             data='<base64-encoded-image>')],\n",
      "           table=None,\n",
      "           raw_outputs=[{'data': {'image/png': '<base64-encoded-image>'},\n",
      "                         'output_type': 'display_data'}],\n",
      "           metadata={})\n"
     ]
    }
   ],
   "source": [
    "from notebook_summarizer.core.parser import parse_code_cell\n",
    "import nbformat\n",
    "import pprint\n",
    "\n",
    "fake_code_cell = {\n",
    "    \"cell_type\": \"code\",\n",
    "    \"source\": \"import matplotlib.pyplot as plt\\nplt.plot([1, 2, 3], [4, 5, 6])\\nplt.show()\",\n",
    "    \"outputs\": [\n",
    "        {\n",
    "            \"output_type\": \"display_data\",\n",
    "            \"data\": {\n",
    "                \"image/png\": \"<base64-encoded-image>\"\n",
    "            }\n",
    "        }\n",
    "    ]\n",
    "}\n",
    "parsed_code = parse_code_cell(fake_code_cell)\n",
    "pprint.pprint(parsed_code)"
   ]
  },
  {
   "cell_type": "markdown",
   "id": "d4c731f1",
   "metadata": {},
   "source": [
    "### 6.  Code cell with table output\n",
    "(Manually simulate table output using HTML.)"
   ]
  },
  {
   "cell_type": "code",
   "execution_count": 7,
   "id": "a1ab01c7",
   "metadata": {},
   "outputs": [
    {
     "name": "stdout",
     "output_type": "stream",
     "text": [
      "ParsedCell(type='code',\n",
      "           title=None,\n",
      "           bullets=[],\n",
      "           paragraphs=[],\n",
      "           code='df.head()',\n",
      "           images=[],\n",
      "           table=[{'name': 'Alice', 'score': 95}, {'name': 'Bob', 'score': 88}],\n",
      "           raw_outputs=[{'data': {'text/html': '\\n'\n",
      "                                               '<table>\\n'\n",
      "                                               '<thead>\\n'\n",
      "                                               '    '\n",
      "                                               '<tr><th>name</th><th>score</th></tr>\\n'\n",
      "                                               '</thead>\\n'\n",
      "                                               '<tbody>\\n'\n",
      "                                               '    '\n",
      "                                               '<tr><td>Alice</td><td>95</td></tr>\\n'\n",
      "                                               '    '\n",
      "                                               '<tr><td>Bob</td><td>88</td></tr>\\n'\n",
      "                                               '</tbody>\\n'\n",
      "                                               '</table>\\n'},\n",
      "                         'output_type': 'execute_result'}],\n",
      "           metadata={})\n"
     ]
    }
   ],
   "source": [
    "html_table = \"\"\"\n",
    "<table>\n",
    "<thead>\n",
    "    <tr><th>name</th><th>score</th></tr>\n",
    "</thead>\n",
    "<tbody>\n",
    "    <tr><td>Alice</td><td>95</td></tr>\n",
    "    <tr><td>Bob</td><td>88</td></tr>\n",
    "</tbody>\n",
    "</table>\n",
    "\"\"\"\n",
    "\n",
    "fake_code_cell = {\n",
    "    \"cell_type\": \"code\",\n",
    "    \"source\": \"df.head()\",\n",
    "    \"outputs\": [\n",
    "        {\n",
    "            \"output_type\": \"execute_result\",\n",
    "            \"data\": {\n",
    "                \"text/html\": html_table\n",
    "            }\n",
    "        }\n",
    "    ]\n",
    "}\n",
    "\n",
    "\n",
    "parsed_code = parse_code_cell(fake_code_cell)\n",
    "pprint.pprint(parsed_code)\n"
   ]
  }
 ],
 "metadata": {
  "kernelspec": {
   "display_name": "notebook-summarizer-V_-VZDMn-py3.12",
   "language": "python",
   "name": "python3"
  },
  "language_info": {
   "codemirror_mode": {
    "name": "ipython",
    "version": 3
   },
   "file_extension": ".py",
   "mimetype": "text/x-python",
   "name": "python",
   "nbconvert_exporter": "python",
   "pygments_lexer": "ipython3",
   "version": "3.12.10"
  }
 },
 "nbformat": 4,
 "nbformat_minor": 5
}
