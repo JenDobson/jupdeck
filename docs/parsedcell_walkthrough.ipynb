{
 "cells": [
  {
   "cell_type": "markdown",
   "id": "b7e35c08",
   "metadata": {},
   "source": [
    "# ParsedCell API Walkthrough\n",
    "\n",
    "This notebook demonstrates how markdown and code cells are parsed into `ParsedCell` objects."
   ]
  },
  {
   "cell_type": "code",
   "execution_count": null,
   "id": "5e124cb6",
   "metadata": {},
   "outputs": [],
   "source": [
    "from nbformat.v4 import new_markdown_cell\n",
    "from notebook_summarizer.core.parser import parse_markdown_cell\n",
    "import pprint"
   ]
  },
  {
   "cell_type": "markdown",
   "id": "f7bdfd3b",
   "metadata": {},
   "source": [
    "## Example 1: Simple Markdown\n",
    "A markdown cell with a heading and a paragraph."
   ]
  },
  {
   "cell_type": "code",
   "execution_count": null,
   "id": "992f7cef",
   "metadata": {},
   "outputs": [
    {
     "name": "stdout",
     "output_type": "stream",
     "text": [
      "ParsedCell(index=0,\n",
      "           type='markdown',\n",
      "           title='Introduction',\n",
      "           bullets=[],\n",
      "           paragraphs=['This notebook demonstrates parsing.'],\n",
      "           code=None,\n",
      "           images=[],\n",
      "           table=None,\n",
      "           raw_outputs=None,\n",
      "           metadata={})\n"
     ]
    }
   ],
   "source": [
    "md_cell = new_markdown_cell('# Introduction\\n\\nThis notebook demonstrates parsing.')\n",
    "parsed = parse_markdown_cell(md_cell, index=0)\n",
    "pprint.pprint(parsed)"
   ]
  },
  {
   "cell_type": "markdown",
   "id": "9707753b",
   "metadata": {},
   "source": [
    "## Example 2: Markdown with Bullets\n",
    "A markdown cell with a heading and a bullet list."
   ]
  },
  {
   "cell_type": "code",
   "execution_count": 6,
   "id": "12513a9f",
   "metadata": {},
   "outputs": [
    {
     "name": "stdout",
     "output_type": "stream",
     "text": [
      "ParsedCell(index=1,\n",
      "           type='markdown',\n",
      "           title='Key Findings',\n",
      "           bullets=['First insight', 'Second insight'],\n",
      "           paragraphs=[],\n",
      "           code=None,\n",
      "           images=[],\n",
      "           table=None,\n",
      "           raw_outputs=None,\n",
      "           metadata={})\n"
     ]
    }
   ],
   "source": [
    "md_bullets = new_markdown_cell('# Key Findings\\n\\n- First insight\\n- Second insight')\n",
    "parsed_bullets = parse_markdown_cell(md_bullets, index=1)\n",
    "pprint.pprint(parsed_bullets)"
   ]
  },
  {
   "cell_type": "markdown",
   "id": "4675043a",
   "metadata": {},
   "source": [
    "## Example 3: Markdown with Link\n",
    "A markdown paragraph that includes an inline link."
   ]
  },
  {
   "cell_type": "code",
   "execution_count": 7,
   "id": "f73d7066",
   "metadata": {},
   "outputs": [
    {
     "name": "stdout",
     "output_type": "stream",
     "text": [
      "ParsedCell(index=2,\n",
      "           type='markdown',\n",
      "           title='Data Source',\n",
      "           bullets=[],\n",
      "           paragraphs=['See  BLS (https://bls.gov)  for details.'],\n",
      "           code=None,\n",
      "           images=[],\n",
      "           table=None,\n",
      "           raw_outputs=None,\n",
      "           metadata={})\n"
     ]
    }
   ],
   "source": [
    "md_link = new_markdown_cell('# Data Source\\n\\nSee [BLS](https://bls.gov) for details.')\n",
    "parsed_link = parse_markdown_cell(md_link, index=2)\n",
    "pprint.pprint(parsed_link)"
   ]
  },
  {
   "cell_type": "markdown",
   "id": "d7a50bcd",
   "metadata": {},
   "source": [
    "## Example 4: Code Cell with Plot Output\n",
    "(Manually simulate parsing a code cell with outputs.)"
   ]
  },
  {
   "cell_type": "code",
   "execution_count": 8,
   "id": "777efe09",
   "metadata": {},
   "outputs": [
    {
     "name": "stdout",
     "output_type": "stream",
     "text": [
      "ParsedCell(index=3,\n",
      "           type='code',\n",
      "           title=None,\n",
      "           bullets=[],\n",
      "           paragraphs=[],\n",
      "           code='import matplotlib.pyplot as plt\\n'\n",
      "                'plt.plot([1, 2, 3], [4, 5, 6])\\n'\n",
      "                'plt.show()',\n",
      "           images=[ImageData(mime_type='image/png',\n",
      "                             data='<base64-encoded-image>')],\n",
      "           table=None,\n",
      "           raw_outputs=[{'data': {'image/png': '<base64-encoded-image>'},\n",
      "                         'output_type': 'display_data'}],\n",
      "           metadata={})\n"
     ]
    }
   ],
   "source": [
    "from notebook_summarizer.core.parser import parse_code_cell\n",
    "import nbformat\n",
    "import pprint\n",
    "\n",
    "fake_code_cell = {\n",
    "    \"cell_type\": \"code\",\n",
    "    \"source\": \"import matplotlib.pyplot as plt\\nplt.plot([1, 2, 3], [4, 5, 6])\\nplt.show()\",\n",
    "    \"outputs\": [\n",
    "        {\n",
    "            \"output_type\": \"display_data\",\n",
    "            \"data\": {\n",
    "                \"image/png\": \"<base64-encoded-image>\"\n",
    "            }\n",
    "        }\n",
    "    ]\n",
    "}\n",
    "parsed_code = parse_code_cell(fake_code_cell, index=3)\n",
    "pprint.pprint(parsed_code)"
   ]
  }
 ],
 "metadata": {
  "kernelspec": {
   "display_name": "notebook-summarizer-V_-VZDMn-py3.12",
   "language": "python",
   "name": "python3"
  },
  "language_info": {
   "codemirror_mode": {
    "name": "ipython",
    "version": 3
   },
   "file_extension": ".py",
   "mimetype": "text/x-python",
   "name": "python",
   "nbconvert_exporter": "python",
   "pygments_lexer": "ipython3",
   "version": "3.12.10"
  }
 },
 "nbformat": 4,
 "nbformat_minor": 5
}
